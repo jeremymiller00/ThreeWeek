{
 "cells": [
  {
   "cell_type": "markdown",
   "metadata": {},
   "source": [
    "# WARMUP - FUNCTIONS!\n",
    "\n",
    "source: https://github.com/gSchool/dsi-python-fundamentals/blob/sf-3wk-python/week2/day5-intro_to_functions/beginning_functions_assignment.md"
   ]
  },
  {
   "cell_type": "markdown",
   "metadata": {},
   "source": [
    "# 99 Bottles of Beer on the Wall, 99 Bottles of Beer (Beer!)"
   ]
  },
  {
   "cell_type": "code",
   "execution_count": null,
   "metadata": {},
   "outputs": [],
   "source": [
    "# What do I have to add to make the function print the number of beers on the wall?\n",
    "\n",
    "def print_beers_on_the_wall(n=99):\n",
    "    \"\"\"Print how many beers remain on the wall.\n",
    "\n",
    "    Args:\n",
    "       n: int\n",
    "           Holds the number of beers that remain on the wall.\n",
    "    \"\"\"\n",
    "#     (TEXT GOES HERE)\n",
    "    pass"
   ]
  },
  {
   "cell_type": "markdown",
   "metadata": {},
   "source": [
    "    SCROLL DOWN FOR SOLN\n",
    "    \n",
    "    \n",
    "    \n",
    "    \n",
    "    \n",
    "    \n",
    "    \n",
    "    \n",
    "    \n",
    "    THREEE\n",
    "    \n",
    "    \n",
    "    \n",
    "    \n",
    "    \n",
    "    \n",
    "    \n",
    "    \n",
    "    \n",
    "    TWOO\n",
    "    \n",
    "    \n",
    "    \n",
    "    \n",
    "    \n",
    "    \n",
    "    \n",
    "    \n",
    "    \n",
    "    \n",
    "    ONE"
   ]
  },
  {
   "cell_type": "code",
   "execution_count": null,
   "metadata": {},
   "outputs": [],
   "source": [
    "def print_beers_on_the_wall(n=99):\n",
    "    \"\"\"Print how many beers remain on the wall.\n",
    "\n",
    "    Args:\n",
    "       n: int\n",
    "           Holds the number of beers that remain on the wall.\n",
    "    \"\"\"\n",
    "    print(\"There are {} beers on the wall.\".format(n))\n",
    "    pass"
   ]
  },
  {
   "cell_type": "code",
   "execution_count": null,
   "metadata": {
    "collapsed": true
   },
   "outputs": [],
   "source": [
    "# What will print?\n",
    "print_beers_on_the_wall(99)"
   ]
  },
  {
   "cell_type": "code",
   "execution_count": null,
   "metadata": {
    "collapsed": true
   },
   "outputs": [],
   "source": [
    "# What will print?\n",
    "print_beers_on_the_wall()"
   ]
  },
  {
   "cell_type": "code",
   "execution_count": null,
   "metadata": {
    "collapsed": true
   },
   "outputs": [],
   "source": [
    "# What will print?\n",
    "print_beers_on_the_wall(50)"
   ]
  },
  {
   "cell_type": "markdown",
   "metadata": {},
   "source": [
    "    (start of blank space)\n",
    "\n",
    "\n",
    "\n",
    "\n",
    "\n",
    "\n",
    "\n",
    "\n",
    "\n",
    "\n",
    "\n",
    "\n",
    "\n",
    "\n",
    "\n",
    "\n",
    "\n",
    "\n",
    "\n",
    "\n",
    "    (end of blank space!)"
   ]
  },
  {
   "cell_type": "markdown",
   "metadata": {},
   "source": [
    "# Let it Go!"
   ]
  },
  {
   "cell_type": "code",
   "execution_count": null,
   "metadata": {},
   "outputs": [],
   "source": [
    "# THIS FUNCTION SHOULD PRINT \"I love Elsa! She's my favorite!\" IF THE PERSON IS A FAN,\n",
    "#  AND \"Let It Go, it's not that great.\" IF NOT.\n",
    "\n",
    "def check_elsa_fan(fan):\n",
    "    \"\"\"\n",
    "    Print a certain phrase depending on the value of fan.\n",
    "    Args: fan: boolean\n",
    "    \"\"\"\n",
    "#     (TEXT GOES HERE)\n",
    "    pass"
   ]
  },
  {
   "cell_type": "markdown",
   "metadata": {},
   "source": [
    "    SCROLL DOWN FOR SOLN\n",
    "    \n",
    "    \n",
    "    \n",
    "    \n",
    "    \n",
    "    \n",
    "    \n",
    "    \n",
    "    \n",
    "    THREEE\n",
    "    \n",
    "    \n",
    "    \n",
    "    \n",
    "    \n",
    "    \n",
    "    \n",
    "    \n",
    "    \n",
    "    TWOO\n",
    "    \n",
    "    \n",
    "    \n",
    "    \n",
    "    \n",
    "    \n",
    "    \n",
    "    \n",
    "    \n",
    "    \n",
    "    ONE"
   ]
  },
  {
   "cell_type": "code",
   "execution_count": null,
   "metadata": {},
   "outputs": [],
   "source": [
    "def check_elsa_fan(fan):\n",
    "    \"\"\"\n",
    "    Print a certain phrase depending on the value of fan.\n",
    "    Args: fan: boolean\n",
    "    \"\"\"\n",
    "    if fan: \n",
    "        print(\"I love Elsa! She's my favorite!\")\n",
    "    else:\n",
    "        print(\"Let It Go, it's not that great.\")"
   ]
  },
  {
   "cell_type": "code",
   "execution_count": null,
   "metadata": {},
   "outputs": [],
   "source": [
    "# What will print?\n",
    "check_elsa_fan()"
   ]
  },
  {
   "cell_type": "code",
   "execution_count": null,
   "metadata": {
    "collapsed": true
   },
   "outputs": [],
   "source": [
    "# What will print?\n",
    "check_elsa_fan(True)"
   ]
  },
  {
   "cell_type": "code",
   "execution_count": null,
   "metadata": {
    "collapsed": true
   },
   "outputs": [],
   "source": [
    "# What will print?\n",
    "check_elsa_fan(False)"
   ]
  },
  {
   "cell_type": "code",
   "execution_count": null,
   "metadata": {
    "collapsed": true
   },
   "outputs": [],
   "source": [
    "# What will print?\n",
    "check_elsa_fan(fan)"
   ]
  },
  {
   "cell_type": "code",
   "execution_count": null,
   "metadata": {
    "collapsed": true
   },
   "outputs": [],
   "source": [
    "# What will print?\n",
    "check_elsa_fan('fan')"
   ]
  },
  {
   "cell_type": "code",
   "execution_count": null,
   "metadata": {
    "collapsed": true
   },
   "outputs": [],
   "source": [
    "# What will print?\n",
    "check_elsa_fan('')"
   ]
  },
  {
   "cell_type": "code",
   "execution_count": null,
   "metadata": {
    "collapsed": true
   },
   "outputs": [],
   "source": [
    "# What will print?\n",
    "check_elsa_fan(' ')"
   ]
  },
  {
   "cell_type": "code",
   "execution_count": null,
   "metadata": {
    "collapsed": true
   },
   "outputs": [],
   "source": [
    "# What will print?\n",
    "check_elsa_fan(1)"
   ]
  },
  {
   "cell_type": "code",
   "execution_count": null,
   "metadata": {
    "collapsed": true
   },
   "outputs": [],
   "source": [
    "# What will print?\n",
    "check_elsa_fan(0)"
   ]
  },
  {
   "cell_type": "code",
   "execution_count": null,
   "metadata": {
    "collapsed": true
   },
   "outputs": [],
   "source": [
    "# What will print?\n",
    "check_elsa_fan(44)"
   ]
  },
  {
   "cell_type": "code",
   "execution_count": null,
   "metadata": {
    "collapsed": true
   },
   "outputs": [],
   "source": [
    "# HOW WOULD YOU CHANGE check_elsa_fan() TO DEFAULT TO BEING A FAN?\n",
    "def check_elsa_fan(fan):\n",
    "    \"\"\"\n",
    "    Print a certain phrase depending on the value of fan.\n",
    "    Args: fan: boolean\n",
    "    \"\"\"\n",
    "    if fan: \n",
    "        print(\"I love Elsa! She's my favorite!\")\n",
    "    else:\n",
    "        print(\"Let It Go, it's not that great.\")"
   ]
  },
  {
   "cell_type": "markdown",
   "metadata": {},
   "source": [
    "    (start of blank space)\n",
    "\n",
    "\n",
    "\n",
    "\n",
    "\n",
    "\n",
    "\n",
    "\n",
    "\n",
    "\n",
    "\n",
    "\n",
    "\n",
    "\n",
    "\n",
    "\n",
    "\n",
    "\n",
    "\n",
    "\n",
    "    (end of blank space!)"
   ]
  },
  {
   "cell_type": "markdown",
   "metadata": {},
   "source": [
    "# PAUSE FOR LECTURE\n",
    "\n",
    "## Functions and Scope\n",
    "\n",
    "source1: https://github.com/gSchool/dsi-python-fundamentals/blob/sf-3wk-python/week2/day5-intro_to_functions/pre-class/part1.ipynb\n",
    "\n",
    "source2: https://github.com/gSchool/dsi-python-fundamentals/blob/sf-3wk-python/week2/day5-intro_to_functions/pre-class/part2.ipynb\n",
    "\n",
    "## What is a function?\n",
    "\n",
    "A function is subroutine, which is defined as a sequence of instructions that perform a specific task, packaged together as a unit - i.e. a small independent piece of code.\n",
    "\n",
    "\n",
    "## Why use Functions?\n",
    "\n",
    "### Motivation #1 : RESUSABILITY\n",
    "\n",
    "We want DRY code! Don't Repeat Yourself!\n",
    "\n",
    "(WET code is bad, what do you suppose WET stands for?)\n",
    "\n",
    "eg: distance between two points, p1 and p2\n",
    "    \n",
    "    ((p2[0]-p1[0])**2 + (p2[1]-p1[1])**2 ) ** (1/2)\n",
    "    \n",
    "    (long complicated string you don't want repeated throughout your code)\n",
    "    \n",
    "\n",
    "    \n",
    "### Motivation #2: ABSTRACTION\n",
    "\n",
    "How does type() work? We don't know and at the moment we don't care! Someone could come along and build a more efficient way to find the type that speeds up our code a lot, and we wouldn't have to do anything, our code would just run better.\n",
    "\n",
    "\n",
    "### *Motivation #3 : READIABILITY\n",
    "\n",
    "    dist(p1, p2) \n",
    "\n",
    "is much more intrepretable at a glance than \n",
    "\n",
    "    ((p2[0]-p1[0])**2 + (p2[1]-p1[1])**2 ) ** (1/2) \n",
    "    \n",
    "\n",
    "### *Motivation #4: Flexibility\n",
    "\n",
    "    def dist(p1, p2):\n",
    "        return ((p2[0]-p1[0])**2 + (p2[1]-p1[1])**2 ) ** (1/2) \n",
    "\n",
    "    print(dist(p1, p2))\n",
    "    \n",
    "is actually the euclidian distance. Sometimes we want to use the cosine distance between two points.\n",
    "\n",
    "    def euclidean_distance(a, b):\n",
    "        return (some stuff)\n",
    "\n",
    "    def cosine_distance(a, b):\n",
    "        return (some other stuff)\n",
    "        \n",
    "now we can swap out the distance function to a new fn\n",
    "\n",
    "    for row in self.X:\n",
    "        (some stuff)\n",
    "        distances.append(euclidean_distance(np1, np2))\n",
    "\n",
    "can easily change into \n",
    "\n",
    "    for row in self.X:\n",
    "        (some stuff)\n",
    "        distances.append(cosine_distance(np1, np2))\n"
   ]
  },
  {
   "cell_type": "markdown",
   "metadata": {},
   "source": [
    "## Built In Functions\n",
    "\n",
    "len(), range()\n",
    "\n",
    "https://docs.python.org/2/library/functions.html"
   ]
  },
  {
   "cell_type": "markdown",
   "metadata": {},
   "source": [
    "## Function Example"
   ]
  },
  {
   "cell_type": "code",
   "execution_count": null,
   "metadata": {
    "collapsed": true
   },
   "outputs": [],
   "source": [
    "def get_evens(n=10): \n",
    "    evens = []\n",
    "    for element in range(n): \n",
    "        if element % 2 == 0: \n",
    "            evens.append(element)\n",
    "    return evens\n",
    "\n",
    "print(get_evens(6))"
   ]
  },
  {
   "cell_type": "markdown",
   "metadata": {},
   "source": [
    "#### Parts of the function\n",
    "\n",
    "1. \"def\"\n",
    "2. a name, in snake case\n",
    "3. ( ) with parameters\n",
    "4. : the humble colon\n",
    "5. description\n",
    "6. meat of the function\n",
    "7. (usually) a return statement"
   ]
  },
  {
   "cell_type": "code",
   "execution_count": null,
   "metadata": {},
   "outputs": [],
   "source": [
    "# What will happen if we forget the return statement?\n",
    "def bad_get_evens_1(n=10): \n",
    "    evens = []\n",
    "    for element in range(1, n): \n",
    "        if element % 2 == 0: \n",
    "            evens.append(element)\n",
    "\n",
    "print(bad_get_evens_1(6))"
   ]
  },
  {
   "cell_type": "code",
   "execution_count": null,
   "metadata": {
    "scrolled": true
   },
   "outputs": [],
   "source": [
    "# What will happen if we indent the return statement two times?\n",
    "def bad_get_evens_3(n=10): \n",
    "    evens = []\n",
    "    for element in range(n): \n",
    "        if element % 2 == 0: \n",
    "            evens.append(element)\n",
    "        return evens\n",
    "\n",
    "print(bad_get_evens_3(6))"
   ]
  },
  {
   "cell_type": "code",
   "execution_count": null,
   "metadata": {},
   "outputs": [],
   "source": [
    "# What will happen if we indent the return statement three times?\n",
    "def bad_get_evens_2(n=10): \n",
    "    evens = []\n",
    "    for element in range(n): \n",
    "        if element % 2 == 0: \n",
    "            evens.append(element)\n",
    "            return evens\n",
    "\n",
    "print(bad_get_evens_2(6))"
   ]
  },
  {
   "cell_type": "code",
   "execution_count": null,
   "metadata": {},
   "outputs": [],
   "source": [
    "# What will happen if we change the range to (1, n)?\n",
    "def new_get_evens(n=10): \n",
    "    evens = []\n",
    "    for element in range(1, n): \n",
    "        if element % 2 == 0: \n",
    "            evens.append(element)\n",
    "    return evens\n",
    "\n",
    "print(new_get_evens(6))"
   ]
  },
  {
   "cell_type": "code",
   "execution_count": null,
   "metadata": {},
   "outputs": [],
   "source": [
    "# What will happen if we change the range to (1, n) and indent the returns statement twice?\n",
    "def bad_new_get_evens_2(n=10): \n",
    "    evens = []\n",
    "    for element in range(1, n): \n",
    "        if element % 2 == 0: \n",
    "            evens.append(element)\n",
    "        return evens\n",
    "\n",
    "print(bad_new_get_evens_2(6))"
   ]
  },
  {
   "cell_type": "code",
   "execution_count": null,
   "metadata": {},
   "outputs": [],
   "source": [
    "# What will happen if we change the range to (1, n) and indent the returns statement thrice?\n",
    "def bad_new_get_evens_2(n=10): \n",
    "    evens = []\n",
    "    for element in range(1, n): \n",
    "        if element % 2 == 0: \n",
    "            evens.append(element)\n",
    "            return evens\n",
    "\n",
    "print(bad_new_get_evens_2(6))"
   ]
  },
  {
   "cell_type": "markdown",
   "metadata": {},
   "source": [
    "# PAUSE FOR ACTIVITIES!!!\n",
    "\n",
    "#### When we get back: helper functions, positional vs keyword arguments, scope, and reading and writing files\n",
    "\n",
    "\n",
    "1. Write a function that prints the lyrics for '99 bottles of beer', starting at a number n. For example:\n",
    "\n",
    "    ```\n",
    "    print_99_lyrics(6)\n",
    "\n",
    "    6 bottles of beer on the wall, 6 bottles of beer (beer!).\n",
    "        Take one down, pass it around, 5 bottles of beer on the wall.\n",
    "\n",
    "    5 bottles of beer on the wall, 5 bottles of beer (beer!).\n",
    "        Take one down, pass it around, 4 bottles of beer on the wall.\n",
    "\n",
    "    4 bottles of beer on the wall, 4 bottles of beer (beer!).\n",
    "        Take one down, pass it around, 3 bottles of beer on the wall.\n",
    "\n",
    "    3 bottles of beer on the wall, 3 bottles of beer (beer!).\n",
    "        Take one down, pass it around, 2 bottles of beer on the wall.\n",
    "\n",
    "    2 bottles of beer on the wall, 2 bottles of beer (beer!).\n",
    "        Take one down, pass it around, 1 bottle of beer on the wall.\n",
    "\n",
    "    1 bottle of beer on the wall, 1 bottle of beer (beer!).\n",
    "        Take one down, pass it around, no more bottles of beer on the wall.\n",
    "        ```"
   ]
  },
  {
   "cell_type": "markdown",
   "metadata": {},
   "source": [
    "    SCROLL DOWN FOR SOLN\n",
    "    \n",
    "    \n",
    "    \n",
    "    \n",
    "    \n",
    "    \n",
    "    \n",
    "    \n",
    "    \n",
    "    THREEE\n",
    "    \n",
    "    \n",
    "    \n",
    "    \n",
    "    \n",
    "    \n",
    "    \n",
    "    \n",
    "    \n",
    "    TWOO\n",
    "    \n",
    "    \n",
    "    \n",
    "    \n",
    "    \n",
    "    \n",
    "    \n",
    "    \n",
    "    \n",
    "    \n",
    "    ONE"
   ]
  },
  {
   "cell_type": "code",
   "execution_count": null,
   "metadata": {},
   "outputs": [],
   "source": [
    "# My solution\n",
    "\n",
    "def print_99_lyrics(n):\n",
    "    while n > 0:\n",
    "        if n == 2:\n",
    "            print(\"2 bottles of beer on the wall, 2 bottles of beer (beer!).\\n\\tTake one down, pass it around, 1 bottle of beer on the wall.\\n\")\n",
    "        elif n == 1:\n",
    "            print(\"1 bottle of beer on the wall, 1 bottle of beer (beer!).\\n\\tTake one down, pass it around, no more bottles of beer on the wall.\\n\")\n",
    "        else:\n",
    "            print(\"{} bottles of beer on the wall, {} bottles of beer (beer!).\\n\\tTake one down, pass it around, {} bottles of beer on the wall.\\n\".format(n, n, n-1))\n",
    "        n = n - 1\n",
    "\n",
    "# print_99_lyrics(6)"
   ]
  },
  {
   "cell_type": "markdown",
   "metadata": {},
   "source": [
    "## Helper Functions\n",
    "\n",
    "Describes _how_ the function is used, not specifically _what_ it does or _how_ it's built.\n",
    "\n",
    "Example from last week, I had a very strange and strict rules for datability, and the function started looking really really weird.\n",
    "\n",
    "Let's clean it up with helper functions."
   ]
  },
  {
   "cell_type": "code",
   "execution_count": null,
   "metadata": {
    "collapsed": true
   },
   "outputs": [],
   "source": [
    "# Our Original Code from Day One, WHAT A MESS!!\n",
    "def rebecca_datability(age, accepts_gandalf):\n",
    "    if not accepts_gandalf:\n",
    "        return False\n",
    "    elif age > 30 and age % 3 == 0 and not (age > 45):\n",
    "        return True\n",
    "    elif age == 23 or age == 29:\n",
    "        return True\n",
    "    else:\n",
    "        return False\n",
    "\n",
    "while True:\n",
    "    dudes = input(\"\"\"What's your age, bro? (enter q to quit)\n",
    "\"\"\")\n",
    "    if dudes == 'q':\n",
    "        break\n",
    "    else:\n",
    "        gandalf = ('T' == input(\"\"\"Do you like v tiny white dogs?\n",
    "T if true, otherwise false\n",
    "\"\"\"))\n",
    "        print(rebecca_datability(int(dudes), gandalf))\n",
    "\n",
    "print('done')"
   ]
  },
  {
   "cell_type": "code",
   "execution_count": null,
   "metadata": {},
   "outputs": [],
   "source": [
    "# The New Code We Started To Build. Try to fill it our before looking at my solutions\n",
    "def age_okay():\n",
    "    '''\n",
    "    helper, is the age okay?\n",
    "    '''\n",
    "    age = input(\"\"\"What's your age, bro? \"\"\")\n",
    "    \n",
    "    age = int(age)\n",
    "    \n",
    "    if age > 30 and age % 3 == 0 and not (age > 45):\n",
    "        return True\n",
    "    elif age == 23 or age == 29:\n",
    "        return True\n",
    "    else:\n",
    "        return False\n",
    "\n",
    "\n",
    "def dog_okay():\n",
    "    '''\n",
    "    helper, is he okay with dogs?\n",
    "    '''\n",
    "    \n",
    "    return True\n",
    "\n",
    "def dateable():\n",
    "    '''\n",
    "    main function, is he dateable?\n",
    "    '''\n",
    "    if age_okay() and dog_okay():\n",
    "        print(\"He's dateable!\")\n",
    "    else:\n",
    "        print(\"reject!\")\n",
    "# dateable()    "
   ]
  },
  {
   "cell_type": "markdown",
   "metadata": {
    "collapsed": true
   },
   "source": [
    "    SCROLL DOWN FOR SOLN\n",
    "    \n",
    "    \n",
    "    \n",
    "    \n",
    "    \n",
    "    \n",
    "    \n",
    "    \n",
    "    \n",
    "    THREEE\n",
    "    \n",
    "    \n",
    "    \n",
    "    \n",
    "    \n",
    "    \n",
    "    \n",
    "    \n",
    "    \n",
    "    TWOO\n",
    "    \n",
    "    \n",
    "    \n",
    "    \n",
    "    \n",
    "    \n",
    "    \n",
    "    \n",
    "    \n",
    "    \n",
    "    ONE"
   ]
  },
  {
   "cell_type": "code",
   "execution_count": null,
   "metadata": {},
   "outputs": [],
   "source": [
    "# My Solution. Notice I have THREE helper functions. What function did I add?\n",
    "\n",
    "def get_age():\n",
    "    age = input(\"\"\"What's your age, bro? \"\"\")\n",
    "    if age.isdigit():\n",
    "        return int(age)\n",
    "    else:\n",
    "        print(\"I'm sorry, that's not an age. Please try again.\")\n",
    "        return dateable_age()\n",
    "    \n",
    "def dateable_age():\n",
    "    age = get_age()\n",
    "    if age > 30 and age % 3 == 0 and not (age > 45):\n",
    "        return True\n",
    "    elif age == 23 or age == 29:\n",
    "        return True\n",
    "    else:\n",
    "        return False\n",
    "\n",
    "def likes_gandalf(): \n",
    "    while True:\n",
    "        answer = input(\"\"\"Do you like v tiny white dogs? \"\"\")\n",
    "    \n",
    "        positive_inputs = {\"y\",\"yep\",\"yes\",\"sure\",\"absolutely\",\"certainly\",\"i do\"}\n",
    "        negative_inputs = {\"n\",\"nope\",\"no\",\"i don't\"}\n",
    "        \n",
    "        if answer.lower() in positive_inputs:\n",
    "            return True\n",
    "        elif answer.lower() in negative_inputs:\n",
    "            return False\n",
    "        else:\n",
    "            print(\"I'm sorry, I didn't understand you. Please try again.\")\n",
    "\n",
    "def dateable():\n",
    "    while True:\n",
    "        if dateable_age(): # and likes_gandalf():\n",
    "            print(\"Accepted!\\n\")\n",
    "        else:\n",
    "            print(\"Rejected!\\n\")\n",
    "\n",
    "dateable()"
   ]
  },
  {
   "cell_type": "markdown",
   "metadata": {},
   "source": [
    "# PAUSE FOR LECTURE\n",
    "\n",
    "## Positional vs Keyword Agruments"
   ]
  },
  {
   "cell_type": "code",
   "execution_count": null,
   "metadata": {},
   "outputs": [],
   "source": [
    "def my_silly_function(animal, legs):\n",
    "    '''\n",
    "    given an animal and its number of legs, print that that animal has that many legs\n",
    "    \n",
    "    Args:\n",
    "        animal, a string\n",
    "        legs, an int\n",
    "    '''\n",
    "    print(\"A {} has {} legs.\".format(animal, legs))"
   ]
  },
  {
   "cell_type": "code",
   "execution_count": null,
   "metadata": {
    "collapsed": true
   },
   "outputs": [],
   "source": [
    "# What will print?\n",
    "my_silly_function(\"dog\", 4)"
   ]
  },
  {
   "cell_type": "code",
   "execution_count": null,
   "metadata": {},
   "outputs": [],
   "source": [
    "# What will print?\n",
    "my_silly_function(4, \"dog\")"
   ]
  },
  {
   "cell_type": "code",
   "execution_count": null,
   "metadata": {},
   "outputs": [],
   "source": [
    "# What will print?\n",
    "my_silly_function(legs = 4, animal = \"dog\")"
   ]
  },
  {
   "cell_type": "code",
   "execution_count": null,
   "metadata": {},
   "outputs": [],
   "source": [
    "# What will print?\n",
    "my_silly_function(legs = 4, \"dog\")"
   ]
  },
  {
   "cell_type": "code",
   "execution_count": null,
   "metadata": {},
   "outputs": [],
   "source": [
    "# What will print?\n",
    "my_silly_function(4, animal = \"dog\")"
   ]
  },
  {
   "cell_type": "code",
   "execution_count": null,
   "metadata": {},
   "outputs": [],
   "source": [
    "# What will print?\n",
    "my_silly_function(\"dog\", legs = 4)"
   ]
  },
  {
   "cell_type": "markdown",
   "metadata": {},
   "source": [
    "## Scope"
   ]
  },
  {
   "cell_type": "code",
   "execution_count": null,
   "metadata": {},
   "outputs": [],
   "source": [
    "# What will print?\n",
    "vacation_spot = \"Hawaii\"\n",
    "print(vacation_spot)"
   ]
  },
  {
   "cell_type": "code",
   "execution_count": null,
   "metadata": {
    "collapsed": true
   },
   "outputs": [],
   "source": [
    "def change_and_print_vacation_spot():\n",
    "    vacation_spot = \"Vegas\"\n",
    "    print(vacation_spot)"
   ]
  },
  {
   "cell_type": "code",
   "execution_count": null,
   "metadata": {},
   "outputs": [],
   "source": [
    "# What will print?\n",
    "change_and_print_vacation_spot()"
   ]
  },
  {
   "cell_type": "code",
   "execution_count": null,
   "metadata": {},
   "outputs": [],
   "source": [
    "# What will print?\n",
    "print(vacation_spot)"
   ]
  },
  {
   "cell_type": "code",
   "execution_count": null,
   "metadata": {
    "collapsed": true
   },
   "outputs": [],
   "source": [
    "def change_and_return_vacation_spot():\n",
    "    vacation_spot = \"Vegas\"\n",
    "    return vacation_spot"
   ]
  },
  {
   "cell_type": "code",
   "execution_count": null,
   "metadata": {},
   "outputs": [],
   "source": [
    "# What will print?\n",
    "change_and_return_vacation_spot()"
   ]
  },
  {
   "cell_type": "code",
   "execution_count": null,
   "metadata": {},
   "outputs": [],
   "source": [
    "# What will print?\n",
    "print(vacation_spot)"
   ]
  },
  {
   "cell_type": "code",
   "execution_count": null,
   "metadata": {},
   "outputs": [],
   "source": [
    "# What will print?\n",
    "vacation_spot = change_and_return_vacation_spot()\n",
    "\n",
    "print(vacation_spot)"
   ]
  },
  {
   "cell_type": "markdown",
   "metadata": {},
   "source": [
    "## (not covered in class) Reading and Writing Files"
   ]
  },
  {
   "cell_type": "code",
   "execution_count": null,
   "metadata": {
    "collapsed": true
   },
   "outputs": [],
   "source": [
    "# write to the file\n",
    "\n",
    "with open('hello.txt', \"w\") as file:\n",
    "    file.write(\"hello\")"
   ]
  },
  {
   "cell_type": "code",
   "execution_count": null,
   "metadata": {
    "collapsed": true
   },
   "outputs": [],
   "source": [
    "# this won't work, let's see if we can fix it!\n",
    "\n",
    "with open('count.txt', \"w\") as file:\n",
    "    for n in range(10):\n",
    "        file.write(n)"
   ]
  },
  {
   "cell_type": "code",
   "execution_count": null,
   "metadata": {
    "collapsed": true
   },
   "outputs": [],
   "source": [
    "# Let's do something interesting\n",
    "\n",
    "wiki_text = '''Python is an interpreted high-level programming language for general-purpose programming. \n",
    "Created by Guido van Rossum and first released in 1991, Python has a design philosophy that emphasizes code readability, notably using significant whitespace. \n",
    "It provides constructs that enable clear programming on both small and large scales.'''\n",
    "\n",
    "with open('wiki.txt', \"w\") as file:\n",
    "    file.write(wiki_text)"
   ]
  },
  {
   "cell_type": "code",
   "execution_count": null,
   "metadata": {
    "collapsed": true
   },
   "outputs": [],
   "source": [
    "# reading text\n",
    "with open('wiki.txt', \"r\") as file:\n",
    "    print(file)"
   ]
  },
  {
   "cell_type": "code",
   "execution_count": null,
   "metadata": {
    "collapsed": true
   },
   "outputs": [],
   "source": [
    "# won't work. what do we have to do?\n",
    "\n",
    "with open('wiki.txt', \"r\") as file:\n",
    "    file.read()"
   ]
  },
  {
   "cell_type": "code",
   "execution_count": null,
   "metadata": {
    "collapsed": true
   },
   "outputs": [],
   "source": [
    "# again, won't work. what do we have to do?\n",
    "\n",
    "with open('wiki.txt', \"r\") as file:\n",
    "    file.readlines()"
   ]
  },
  {
   "cell_type": "code",
   "execution_count": null,
   "metadata": {
    "collapsed": true
   },
   "outputs": [],
   "source": [
    "# reading twice\n",
    "\n",
    "with open('wiki.txt', \"r\") as file:\n",
    "    file.readlines()\n",
    "    file.readlines()"
   ]
  },
  {
   "cell_type": "code",
   "execution_count": null,
   "metadata": {
    "collapsed": true
   },
   "outputs": [],
   "source": [
    "with open('wiki.txt', \"r\") as file:\n",
    "    for line in file:\n",
    "        print(line)"
   ]
  },
  {
   "cell_type": "markdown",
   "metadata": {},
   "source": [
    "# CHECK FOR UNDERSTANDING\n",
    "\n",
    "At the end of Day 3, you will be able to:\n",
    "\n",
    "* write functions to perform arbitrary encapsulated procedures\n",
    "* use common built in functions of Python\n",
    "* break problems down into parts\n",
    "* implement those parts into functions that work together\n",
    "\n",
    "You will understand:\n",
    "\n",
    "* function declaration syntax, including:\n",
    "* how to pass arguments\n",
    "* how to name and access parameters\n",
    "* default parameter values\n",
    "* scope\n",
    "* how integrate the previous course materials into functions\n",
    "\n",
    "More questions:\n",
    "\n",
    "source1: https://github.com/gSchool/dsi-python-fundamentals/blob/sf-3wk-python/week2/day5-intro_to_functions/beginning_functions_assignment.md\n",
    "\n",
    "source2: https://github.com/gSchool/dsi-python-fundamentals/blob/sf-3wk-python/week2/day5-intro_to_functions/hard_functions_assignment.md"
   ]
  },
  {
   "cell_type": "code",
   "execution_count": null,
   "metadata": {
    "collapsed": true
   },
   "outputs": [],
   "source": []
  }
 ],
 "metadata": {
  "kernelspec": {
   "display_name": "Python 3",
   "language": "python",
   "name": "python3"
  },
  "language_info": {
   "codemirror_mode": {
    "name": "ipython",
    "version": 3
   },
   "file_extension": ".py",
   "mimetype": "text/x-python",
   "name": "python",
   "nbconvert_exporter": "python",
   "pygments_lexer": "ipython3",
   "version": "3.6.3"
  }
 },
 "nbformat": 4,
 "nbformat_minor": 2
}
